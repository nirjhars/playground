{
  "nbformat": 4,
  "nbformat_minor": 0,
  "metadata": {
    "colab": {
      "provenance": [],
      "authorship_tag": "ABX9TyNwfN3WFAWN+HYRbd8rvUUV",
      "include_colab_link": true
    },
    "kernelspec": {
      "name": "python3",
      "display_name": "Python 3"
    },
    "language_info": {
      "name": "python"
    }
  },
  "cells": [
    {
      "cell_type": "markdown",
      "metadata": {
        "id": "view-in-github",
        "colab_type": "text"
      },
      "source": [
        "<a href=\"https://colab.research.google.com/github/nirjhars/playground/blob/main/g-colab-gemini.ipynb\" target=\"_parent\"><img src=\"https://colab.research.google.com/assets/colab-badge.svg\" alt=\"Open In Colab\"/></a>"
      ]
    },
    {
      "cell_type": "code",
      "execution_count": null,
      "metadata": {
        "id": "GoCC0dJhuGhN"
      },
      "outputs": [],
      "source": [
        "# prompt: print a + b\n",
        "\n",
        "a = 10\n",
        "b = 20\n",
        "print(a + b)\n"
      ]
    },
    {
      "cell_type": "code",
      "source": [
        "# Assuming the two strings are 'hello' and 'world'\n",
        "result = 'hello' + 'world'\n",
        "print(result)"
      ],
      "metadata": {
        "colab": {
          "base_uri": "https://localhost:8080/"
        },
        "id": "eqMZrr83uHwD",
        "outputId": "9d822ec9-d462-485d-f14d-2628af60fe4d"
      },
      "execution_count": 3,
      "outputs": [
        {
          "output_type": "stream",
          "name": "stdout",
          "text": [
            "helloworld\n"
          ]
        }
      ]
    },
    {
      "cell_type": "code",
      "source": [
        "# prompt: sort a list of strings\n",
        "\n",
        "my_list = [\"hello\", \"world\", \"apple\", \"banana\"]\n",
        "my_list.sort()\n",
        "print(my_list)\n"
      ],
      "metadata": {
        "id": "46ECxl_evAV5"
      },
      "execution_count": null,
      "outputs": []
    },
    {
      "cell_type": "code",
      "source": [
        "# prompt: create a linked list and sort\n",
        "\n",
        "class Node:\n",
        "  def __init__(self, data):\n",
        "    self.data = data\n",
        "    self.next = None\n",
        "\n",
        "class LinkedList:\n",
        "  def __init__(self):\n",
        "    self.head = None\n",
        "\n",
        "  def append(self, data):\n",
        "    new_node = Node(data)\n",
        "    if self.head is None:\n",
        "      self.head = new_node\n",
        "      return\n",
        "    last_node = self.head\n",
        "    while last_node.next:\n",
        "      last_node = last_node.next\n",
        "    last_node.next = new_node\n",
        "\n",
        "  def sort_list(self):\n",
        "    # Simple bubble sort for linked list\n",
        "    if self.head is None:\n",
        "      return\n",
        "    end = None\n",
        "    while end != self.head:\n",
        "      p = self.head\n",
        "      while p.next != end:\n",
        "        q = p.next\n",
        "        if p.data > q.data:\n",
        "          p.data, q.data = q.data, p.data\n",
        "        p = p.next\n",
        "      end = p\n",
        "\n",
        "  def print_list(self):\n",
        "    temp = self.head\n",
        "    while temp:\n",
        "      print(temp.data, end=\" \")\n",
        "      temp = temp.next\n",
        "\n",
        "# Example usage:\n",
        "my_list = LinkedList()\n",
        "my_list.append(5)\n",
        "my_list.append(1)\n",
        "my_list.append(3)\n",
        "my_list.append(2)\n",
        "\n",
        "print(\"Unsorted list:\")\n",
        "my_list.print_list()\n",
        "\n",
        "my_list.sort_list()\n",
        "\n",
        "print(\"\\nSorted list:\")\n",
        "my_list.print_list()\n"
      ],
      "metadata": {
        "id": "p6TcLSYMw0HL"
      },
      "execution_count": null,
      "outputs": []
    }
  ]
}